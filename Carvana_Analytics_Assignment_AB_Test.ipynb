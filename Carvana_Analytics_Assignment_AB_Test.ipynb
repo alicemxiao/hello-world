{
  "nbformat": 4,
  "nbformat_minor": 0,
  "metadata": {
    "colab": {
      "name": "Carvana Analytics Assignment -- AB Test",
      "provenance": [],
      "collapsed_sections": [],
      "include_colab_link": true
    },
    "kernelspec": {
      "name": "python3",
      "display_name": "Python 3"
    }
  },
  "cells": [
    {
      "cell_type": "markdown",
      "metadata": {
        "id": "view-in-github",
        "colab_type": "text"
      },
      "source": [
        "<a href=\"https://colab.research.google.com/github/alicemxiao/hello-world/blob/master/Carvana_Analytics_Assignment_AB_Test.ipynb\" target=\"_parent\"><img src=\"https://colab.research.google.com/assets/colab-badge.svg\" alt=\"Open In Colab\"/></a>"
      ]
    },
    {
      "cell_type": "code",
      "metadata": {
        "id": "Fz77x27xvox_",
        "colab_type": "code",
        "colab": {}
      },
      "source": [
        "'''\n",
        "Welcome to the Carvana Analytics experiment evaluation assignment!\n",
        "\n",
        "In this exercise you will be presented with data from a fictional A/B test and asked to evaluate and interpret the results.\n",
        "\n",
        "Carvana.com is testing a new feature and is running an A/B test to quantify the impact it has on different types of users. Before their first search, a user is bucketed into one of two treatment groups:\n",
        "  Test - the user is exposed to the new feature\n",
        "  Control - the user is not exposed to the new feature\n",
        "\n",
        "All bucketed users can be found in the \"users\" dataframe/table. This data contains:\n",
        "  user_id\n",
        "  region\n",
        "  treatment\n",
        "\n",
        "All searches done by users can be found in the \"searches\" dataframe/table. This data contains:\n",
        "  user_id\n",
        "  event_date_time\n",
        "  device_type\n",
        "  event_id\n",
        "\n",
        "As users progress through the website, their searches may return vehicles they are interested in. Clicking on a vehicle takes them to a vehicle detail page, or VDP. This is a strong sign of engagement.\n",
        "\n",
        "All VDPs done by users can be found in the \"vdps\" dataframe/table. This data contains:\n",
        "  user_id\n",
        "  event_date_time\n",
        "  device_type\n",
        "  event_id\n",
        "\n",
        "A user can purchase a vehicle driectly from a VDP. This constitues a sale and a conversion for the user.\n",
        "\n",
        "All sales completed by users can be found in the \"sales\" dataframe/table. This data contains:\n",
        "  user_id\n",
        "  event_date_time\n",
        "  device_type\n",
        "  event_id\n",
        "\n",
        "Use the four datasets described to accomplish the following tasks:\n",
        "\n",
        "1) Evaluate the effect of the new feature on engagement (searches and VDPs) and conversion using statistical significance where applicable\n",
        "2) Summarize and highlight insights (or issues) in user behavior across various segments\n",
        "3) Provide a recommendation on whether or not to permanently deploy the feature to all users, some users, or no users\n",
        "\n",
        "Clone or copy this notebook and run this cell to begin. Once you do so you will be able to work with the data in python and/or write sql queries against the data (see example cells below)\n",
        "\n",
        "When submitting the assignment please provide a link to your notebook in addition to your typed respones to the items above in .pdf format.\n",
        "\n",
        "The estimated time for this exercise is 3-4 hours. Please submit your answers to your recruiting coordinator. Good luck!\n",
        "\n",
        "''' \n",
        "\n",
        "################################\n",
        "#### do not alter this code ####\n",
        "################################\n",
        "\n",
        "import pandas as pd\n",
        "\n",
        "! pip install ipython-sql\n",
        "\n",
        "users_path=\"https://s3-us-west-2.amazonaws.com/carvana-analytics-assignment/users.csv\"\n",
        "searches_path=\"https://s3-us-west-2.amazonaws.com/carvana-analytics-assignment/searches.csv\"\n",
        "vdps_path=\"https://s3-us-west-2.amazonaws.com/carvana-analytics-assignment/vdps.csv\"\n",
        "sales_path=\"https://s3-us-west-2.amazonaws.com/carvana-analytics-assignment/sales.csv\"\n",
        "\n",
        "users=pd.read_csv(users_path)\n",
        "searches=pd.read_csv(searches_path)\n",
        "vdps=pd.read_csv(vdps_path)\n",
        "sales=pd.read_csv(sales_path)\n",
        "\n",
        "%load_ext sql\n",
        "%sql sqlite://\n",
        "  \n",
        "%sql drop table if exists users;\n",
        "%sql drop table if exists searches;\n",
        "%sql drop table if exists vdps;\n",
        "%sql drop table if exists sales;\n",
        "\n",
        "%sql persist users\n",
        "%sql persist searches\n",
        "%sql persist vdps\n",
        "%sql persist sales\n",
        "\n",
        "################################\n",
        "#### do not alter this code ####\n",
        "################################"
      ],
      "execution_count": null,
      "outputs": []
    },
    {
      "cell_type": "code",
      "metadata": {
        "id": "jIgSt1elKk2h",
        "colab_type": "code",
        "colab": {}
      },
      "source": [
        "# Example sql query\n",
        "\n",
        "%%sql\n",
        "\n",
        "select * \n",
        "from users u\n",
        "inner join sales s\n",
        "on u.user_id=s.user_id\n",
        "where u.region==\"Southwest\"\n",
        "and s.event_date_time>'2018-06-29'"
      ],
      "execution_count": null,
      "outputs": []
    },
    {
      "cell_type": "code",
      "metadata": {
        "id": "rBBNjBpZNu4v",
        "colab_type": "code",
        "colab": {}
      },
      "source": [
        "# Example python subsetting\n",
        "\n",
        "mobile_searches = searches.loc[searches.device_type == 'Mobile']\n",
        "mobile_searches"
      ],
      "execution_count": null,
      "outputs": []
    }
  ]
}